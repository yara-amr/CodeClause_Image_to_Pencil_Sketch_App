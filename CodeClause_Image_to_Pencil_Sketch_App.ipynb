{
  "nbformat": 4,
  "nbformat_minor": 0,
  "metadata": {
    "colab": {
      "provenance": [],
      "collapsed_sections": [],
      "authorship_tag": "ABX9TyMQAKtFuxRla3fLxy231ysC",
      "include_colab_link": true
    },
    "kernelspec": {
      "name": "python3",
      "display_name": "Python 3"
    },
    "language_info": {
      "name": "python"
    }
  },
  "cells": [
    {
      "cell_type": "markdown",
      "metadata": {
        "id": "view-in-github",
        "colab_type": "text"
      },
      "source": [
        "<a href=\"https://colab.research.google.com/github/yara-amr/CodeClause_Image_to_Pencil_Sketch_App/blob/main/CodeClause_Image_to_Pencil_Sketch_App.ipynb\" target=\"_parent\"><img src=\"https://colab.research.google.com/assets/colab-badge.svg\" alt=\"Open In Colab\"/></a>"
      ]
    },
    {
      "cell_type": "code",
      "execution_count": 30,
      "metadata": {
        "id": "NYC1XwSiEGZO"
      },
      "outputs": [],
      "source": [
        "from google.colab.patches import cv2_imshow\n",
        "import cv2"
      ]
    },
    {
      "cell_type": "code",
      "source": [
        "def convert_to_pencil(photo_name):\n",
        "  img = cv2.imread(photo_name,1)\n",
        "  cv2_imshow(img)\n",
        "\n",
        "  grey_img = cv2.cvtColor(img, cv2.COLOR_BGR2GRAY)\n",
        "  grey_invert = 255 - grey_img\n",
        "\n",
        "  blurred_img = cv2.GaussianBlur(grey_invert, (21,21),0)\n",
        "  blurred_invert = 255 - blurred_img\n",
        "\n",
        "  pencil_sketch = cv2.divide(grey_img, blurred_invert, scale = 256.0)\n",
        "  cv2_imshow(pencil_sketch)"
      ],
      "metadata": {
        "id": "1vfcaE7rLywN"
      },
      "execution_count": 28,
      "outputs": []
    },
    {
      "cell_type": "code",
      "source": [
        "photo = input('enter photo name: ')\n",
        "convert_to_pencil(photo)"
      ],
      "metadata": {
        "id": "oD-oiGMwMHjb"
      },
      "execution_count": null,
      "outputs": []
    }
  ]
}